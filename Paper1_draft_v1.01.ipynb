{
 "metadata": {
  "name": "",
  "signature": "sha256:b0060cb3891465c17552bcbf1f1067fa8d0a5395e580e4d35e2ccd92cd45c10d"
 },
 "nbformat": 3,
 "nbformat_minor": 0,
 "worksheets": [
  {
   "cells": [
    {
     "cell_type": "heading",
     "level": 1,
     "metadata": {},
     "source": [
      "Action-based Dynamical Models for the Milky Way:<br\\>How to deal with \"real world\" issues"
     ]
    },
    {
     "cell_type": "markdown",
     "metadata": {},
     "source": [
      "by some authors <br \\>\n",
      "(Btw, if paper 2 is about numerical simulations and deviations from axisymmetry, we should think of paper titles that fit together.)"
     ]
    },
    {
     "cell_type": "heading",
     "level": 2,
     "metadata": {},
     "source": [
      "Abstract"
     ]
    },
    {
     "cell_type": "markdown",
     "metadata": {},
     "source": [
      "[To do]"
     ]
    },
    {
     "cell_type": "heading",
     "level": 2,
     "metadata": {},
     "source": [
      "1. Introduction"
     ]
    },
    {
     "cell_type": "markdown",
     "metadata": {},
     "source": [
      "[To do]"
     ]
    },
    {
     "cell_type": "heading",
     "level": 2,
     "metadata": {},
     "source": [
      "2. Method"
     ]
    },
    {
     "cell_type": "heading",
     "level": 3,
     "metadata": {},
     "source": [
      "2.1 Actions"
     ]
    },
    {
     "cell_type": "markdown",
     "metadata": {},
     "source": [
      "[To do]"
     ]
    },
    {
     "cell_type": "heading",
     "level": 3,
     "metadata": {},
     "source": [
      "2.3 Potential models"
     ]
    },
    {
     "cell_type": "markdown",
     "metadata": {},
     "source": [
      "[To do]\n",
      "Mention different ways to calculate actions in different potentials."
     ]
    },
    {
     "cell_type": "heading",
     "level": 3,
     "metadata": {},
     "source": [
      "2.2 Distribution function"
     ]
    },
    {
     "cell_type": "markdown",
     "metadata": {},
     "source": [
      "[To do]"
     ]
    },
    {
     "cell_type": "heading",
     "level": 3,
     "metadata": {},
     "source": [
      "2.4 Mock data"
     ]
    },
    {
     "cell_type": "markdown",
     "metadata": {},
     "source": [
      "[To do]\n",
      "* *Diagram 1*: schematic flow chart of how to sample mock data (could be helpful for people, who want to sample mock data in action space and didn't know how to start, like me)\n",
      "* *Plot 2:* 2 triangle plots with (jr, lz, jz) on the axes to show the distribution of stars in action space within mock data sets - for a large sphere and a small sphere. (I thought it was very instructive to see how the spatial selection function shapes the distribution of actions, it also helped me understand which orbits have which actions.)\n",
      "* *Plot 3:* distribution of mock data set in real space: z vs. R. and vz vs. R, maybe for a hot and cold population? (maybe a bit boring? Would be however illustrative, that the mock data sampled from the qdf is indeed similar to something we could observe. Also: could make a 4 sigma contour in the vz vs. R plot, to show, that the choice of integration limits is important but 4 sigma should be sufficient.)"
     ]
    },
    {
     "cell_type": "heading",
     "level": 3,
     "metadata": {},
     "source": [
      "2.5 Analysis"
     ]
    },
    {
     "cell_type": "markdown",
     "metadata": {},
     "source": [
      "[To do]\n",
      "Don't forget: How to choose the fitting ranges."
     ]
    },
    {
     "cell_type": "heading",
     "level": 3,
     "metadata": {},
     "source": [
      "2.6 Measurement Errors"
     ]
    },
    {
     "cell_type": "markdown",
     "metadata": {},
     "source": [
      "[To do]\n",
      "* *Plot 1:* The plot I had on the poster, which shows the number of MC samples needed for given maximum error. However, we still haven't tested, if this plot depends on: \n",
      "    * hotness of stars\n",
      "    * number of stars\n",
      "* *Plot 2:* Some plot that shows, that our approximation of ignoring distance errors works. Any ideas?"
     ]
    },
    {
     "cell_type": "heading",
     "level": 2,
     "metadata": {},
     "source": [
      "3. Results"
     ]
    },
    {
     "cell_type": "heading",
     "level": 3,
     "metadata": {},
     "source": [
      "3.1 Verification of the Method"
     ]
    },
    {
     "cell_type": "markdown",
     "metadata": {},
     "source": [
      "* *Test 1:* Isochrone potential, 2 different b, 2 different populations, 5 different SF (isoSph test suite) <br \\>\n",
      "*Plot 1:* scatter plot (offset / stddev) vs. (stddev / true value [%]) for b and one qdf parameter --> and panel with normal distribution. This plot could show 3 things:\n",
      "    * Central limit theorem is satisified --> method works.\n",
      "    * Bigger volumes give better constraints.\n",
      "    * hot populations seem to give tighter constraints on the potential.\n",
      "* *Plot 2:* two panels: \n",
      "    * a) convergence of the normalisation vs. ngl_vel (GL order of integrating the qdf over the velocities to get the density), \n",
      "    * b) convergence of the normalisation vs. n_dens (number of grid points in each (R,z) at which the density is explicitely calculated, before interpolating and integrating over the volume to get the normalisation). \n",
      " \n",
      " This might not be a very exciting plot, but when we later show plots, that demonstrate e.g. how robust the method is against incompleteness, people might think, that in this case the normalization is not so important and time could be saved in calculating it. We know, that it is important to get the normalisation right. Plus, it proves, that possible biases when using the St\u00e4ckel approximation are not due to a wrong normalisation.\n",
      "* *Plot 3:* Would be cool to have a plot, that shows that for the St\u00e4ckel potential we don't get biases, but that there are some for the analytic Miyamoto-Nagai + power-law halo & interpolated MW potential and therefore this bias is probably due to incorrect action calculation."
     ]
    },
    {
     "cell_type": "markdown",
     "metadata": {},
     "source": [
      "Don't forget to mention, that we also veryfied that stddev ~ 1/sqrt(N)"
     ]
    },
    {
     "cell_type": "heading",
     "level": 3,
     "metadata": {},
     "source": [
      "3.2 Shape and position of the observed volume"
     ]
    },
    {
     "cell_type": "markdown",
     "metadata": {},
     "source": [
      "* *Test 1:* Compare results of wedges of same volume, but different positions and orientations. \n",
      "    * I guess, the ones that demonstrate, that phi-coverage is much less important than R and z coverage, is boring, right? And I already have a plot in 3.1 that shows, that larger volumes are better. \n",
      "    * This test suite was made with the MW-like potential and there seem to be biases, that are different for different volumes. If we say, okay, we have to deal with whatever biases we get, I could still include those volumes with good R AND z coverage, because for them the biases seem to be smaller.\n",
      "    * I might add a few more volumes, e.g. one with large vertical coverage at different positions\n",
      "    * Do we explicitely want to test, if it matters, if the radial coverage is larger or smaller the disk scale length, and the vertical coverage is larger or smaller than the disk scale height?<br \\>\n",
      "*Plot 1:* \n",
      "    a) cross section of volumes in R and z\n",
      "    b) offset / stddev vs. stddev / true value [%], that demonstrates, that it doesn't matter much for the potential recovery, if we have more radial or vertical coverage, and the position within the galaxy. "
     ]
    },
    {
     "cell_type": "heading",
     "level": 3,
     "metadata": {},
     "source": [
      "3.3 What if our data set is incomplete?"
     ]
    },
    {
     "cell_type": "markdown",
     "metadata": {},
     "source": [
      "* *Test 1:* isochrone potential, b=0.9 kpc, two populations, completeness$(d) = 1 - \\epsilon \\cdot d/Rmax$, where Rmax is radius of spherical selection function. Marginalize over vT in analysis. <br \\>\n",
      "*Plot 1*: Violin plot: x-axis - $\\epsilon$. y-axis: b-parameter and one of the qdf parameters.\n",
      "* *Test 2:* isochrone potential, two populations, incompleteness function that depends only on z. <br \\>\n",
      "*Plot 2*: violin plot"
     ]
    },
    {
     "cell_type": "heading",
     "level": 3,
     "metadata": {},
     "source": [
      "3.4 What if our assumed distribution function differs from the star's DF?"
     ]
    },
    {
     "cell_type": "markdown",
     "metadata": {},
     "source": [
      "* *Test 1:* mix hot and cold populations, 5 free qdf parameters in analysis!, use code that estimates the best velocity integration ranges. h_sigma_r & h_sigma_z are the same for both populations, sigma_r and sigma_z have the same ratio, but are 50% different for the two populations. h_R is also 50% different. Vary the fraction of pollution. Idea behind this: What if the stellar distribution has a different shape, e.g. added \"wings\", or had a different tracer density decrease with R. Would be however great, if we could show how the mixture of qdf's quanlitatively changes the shape of the df. Any ideas? <br \\>\n",
      "*Plot 1:* Violin plot: x-axis - fraction of pollution. y-axis: b-parameter and one or two qdf parameters.\n",
      "* *Test 2:* same as Test 1, but this time vary the degree of difference and make it 50% pollution. Idea behind this: What happens, if we have errors in the abundances and mix different MAPs? For this it would be could to compare how much the qdf parameters of neighbouring MAPs differ and how big the difference between MAPs can be, such that it still can reproduce the potential. <br \\>\n",
      "*Plot 2:* Violin plot: x-axis - difference in qdf parameters. y-axis: b-parameter and one or two qdf parameters.\n"
     ]
    },
    {
     "cell_type": "heading",
     "level": 3,
     "metadata": {},
     "source": [
      "3.5 What if our assumed potential model differs from the real potential?"
     ]
    },
    {
     "cell_type": "markdown",
     "metadata": {},
     "source": [
      "* *Test 1:* Try to recover a Miyamoto-Nagai disk + power-law halo potential by fitting a 2-component St\u00e4ckel potential. <br \\>\n",
      "*Plot 1:* \n",
      "    * (R,z)-plane: color coding: difference between true potential's F_R and best fit potential F_R\n",
      "    * (R,z)-plane: color coding: difference between true potential's F_z and best fit potential F_z <br \\>\n",
      "    Any idea how to account for the error bars on the best fit potential?"
     ]
    },
    {
     "cell_type": "heading",
     "level": 3,
     "metadata": {},
     "source": [
      "3.6 Effect of measurement errors on recovery of potential"
     ]
    },
    {
     "cell_type": "markdown",
     "metadata": {},
     "source": [
      "* *Test 1:* One selection function, one population, vary the size of the proper motion error (don't forget to adapt the number of MC samples needed) <br \\>\n",
      "*Plot 1:* (width of pdf) vs. (maximum velocity error / temperature parameter)"
     ]
    },
    {
     "cell_type": "heading",
     "level": 3,
     "metadata": {},
     "source": [
      "4. Conclusion"
     ]
    },
    {
     "cell_type": "markdown",
     "metadata": {},
     "source": [
      "[To do]"
     ]
    },
    {
     "cell_type": "heading",
     "level": 2,
     "metadata": {},
     "source": [
      "Questions that haven't been covered so far:"
     ]
    },
    {
     "cell_type": "markdown",
     "metadata": {},
     "source": [
      "* What limits the overall code speed?\n",
      "* What happens, when the errors are not uniform?\n",
      "* What if errors in distance matter for selection?\n",
      "* Deviations from axisymmetry: Take numerical simulations."
     ]
    }
   ],
   "metadata": {}
  }
 ]
}